{
 "cells": [
  {
   "cell_type": "code",
   "execution_count": 7,
   "id": "e534b1ca",
   "metadata": {},
   "outputs": [
    {
     "name": "stdout",
     "output_type": "stream",
     "text": [
      "I recommended it, It is good\n"
     ]
    }
   ],
   "source": [
    "movie='xyz'\n",
    "rate=3\n",
    "popularity=72.65\n",
    "if rate >= 4 and popularity>80:\n",
    "        print(\"Highly recommended\")\n",
    "elif rate >= 3 and popularity>70:\n",
    "        print(\"I recommended it, It is good\")\n",
    "elif rate <= 2 and popularity>60:\n",
    "        print(\"You should check it out!\")\n",
    "else:\n",
    "        print(\"Don't watch it, It is a waste of time\")"
   ]
  },
  {
   "cell_type": "code",
   "execution_count": null,
   "id": "1be49255",
   "metadata": {},
   "outputs": [],
   "source": []
  }
 ],
 "metadata": {
  "kernelspec": {
   "display_name": "Python 3 (ipykernel)",
   "language": "python",
   "name": "python3"
  },
  "language_info": {
   "codemirror_mode": {
    "name": "ipython",
    "version": 3
   },
   "file_extension": ".py",
   "mimetype": "text/x-python",
   "name": "python",
   "nbconvert_exporter": "python",
   "pygments_lexer": "ipython3",
   "version": "3.11.3"
  }
 },
 "nbformat": 4,
 "nbformat_minor": 5
}
