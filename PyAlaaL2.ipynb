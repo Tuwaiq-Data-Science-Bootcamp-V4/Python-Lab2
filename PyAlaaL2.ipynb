{
 "cells": [
  {
   "cell_type": "code",
   "execution_count": 2,
   "id": "475427ca",
   "metadata": {},
   "outputs": [
    {
     "name": "stdout",
     "output_type": "stream",
     "text": [
      "I recommended it, It is good\n"
     ]
    }
   ],
   "source": [
    "mov,rate,popularityScore= \"Equalizer\",3,72.65\n",
    "\n",
    "if rate >=4 and popularityScore >=80:\n",
    "    print(\"Highly recommended\")\n",
    "    \n",
    "elif rate >=3 and popularityScore >=70:\n",
    "    print(\"I recommended it, It is good\")\n",
    "    \n",
    "elif rate <=2 and popularityScore >=60: \n",
    "    print(\"You should check it out!\")\n",
    "    \n",
    "else:\n",
    "    print(\"Don't watch it, It is a waste of time\")\n",
    "\n"
   ]
  },
  {
   "cell_type": "code",
   "execution_count": null,
   "id": "ce59fb0b",
   "metadata": {},
   "outputs": [],
   "source": []
  }
 ],
 "metadata": {
  "kernelspec": {
   "display_name": "Python 3 (ipykernel)",
   "language": "python",
   "name": "python3"
  },
  "language_info": {
   "codemirror_mode": {
    "name": "ipython",
    "version": 3
   },
   "file_extension": ".py",
   "mimetype": "text/x-python",
   "name": "python",
   "nbconvert_exporter": "python",
   "pygments_lexer": "ipython3",
   "version": "3.11.3"
  }
 },
 "nbformat": 4,
 "nbformat_minor": 5
}
