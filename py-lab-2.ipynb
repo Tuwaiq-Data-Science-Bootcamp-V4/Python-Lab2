{
 "cells": [
  {
   "cell_type": "code",
   "execution_count": 7,
   "id": "109807a6",
   "metadata": {},
   "outputs": [
    {
     "name": "stdout",
     "output_type": "stream",
     "text": [
      "I recommended it, It is good\n"
     ]
    }
   ],
   "source": [
    "mov = \"black man\" \n",
    "rate = 3\n",
    "pop = 72.65\n",
    "\n",
    "if   rate >= 4 or pop > 80:\n",
    "     print(\"Highly recommended\")\n",
    "elif rate >= 3 and pop > 70:\n",
    "     print(\"I recommended it, It is good\")\n",
    "elif rate <= 2 and pop > 60:\n",
    "     print (\"You should check it out!\")\n",
    "elif rate <= 2 and pop < 50:\n",
    "     print(\"Don't watch it, It is a waste of time\")\n"
   ]
  }
 ],
 "metadata": {
  "kernelspec": {
   "display_name": "Python 3 (ipykernel)",
   "language": "python",
   "name": "python3"
  },
  "language_info": {
   "codemirror_mode": {
    "name": "ipython",
    "version": 3
   },
   "file_extension": ".py",
   "mimetype": "text/x-python",
   "name": "python",
   "nbconvert_exporter": "python",
   "pygments_lexer": "ipython3",
   "version": "3.9.7"
  }
 },
 "nbformat": 4,
 "nbformat_minor": 5
}
