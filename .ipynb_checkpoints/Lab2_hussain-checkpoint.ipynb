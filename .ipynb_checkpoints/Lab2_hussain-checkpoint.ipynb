{
 "cells": [
  {
   "cell_type": "code",
   "execution_count": 1,
   "id": "3ef1c21f",
   "metadata": {},
   "outputs": [],
   "source": [
    "movie1 = \"splinter cell\""
   ]
  },
  {
   "cell_type": "code",
   "execution_count": 2,
   "id": "1f29eafb",
   "metadata": {},
   "outputs": [],
   "source": [
    "m1Rating = 3"
   ]
  },
  {
   "cell_type": "code",
   "execution_count": 3,
   "id": "aa626f6c",
   "metadata": {},
   "outputs": [],
   "source": [
    "m1Popularity = 72.65"
   ]
  },
  {
   "cell_type": "code",
   "execution_count": 4,
   "id": "eca96493",
   "metadata": {},
   "outputs": [
    {
     "name": "stdout",
     "output_type": "stream",
     "text": [
      "I recommend it, it is good.\n"
     ]
    }
   ],
   "source": [
    "if m1Rating >=4 and m1Popularity > 80:\n",
    "    print(\"Highly recommended.\")\n",
    "elif m1Rating >= 3 and m1Popularity > 70:\n",
    "    print(\"I recommend it, it is good.\")\n",
    "elif m1Rating >= 2 and m1Popularity > 60:\n",
    "    print(\"You should check it out!.\")\n",
    "else: \n",
    "    print(\"Don't watch it, It is a waste of time.\")\n",
    "\n"
   ]
  },
  {
   "cell_type": "code",
   "execution_count": null,
   "id": "217479ae",
   "metadata": {},
   "outputs": [],
   "source": []
  }
 ],
 "metadata": {
  "kernelspec": {
   "display_name": "Python 3 (ipykernel)",
   "language": "python",
   "name": "python3"
  },
  "language_info": {
   "codemirror_mode": {
    "name": "ipython",
    "version": 3
   },
   "file_extension": ".py",
   "mimetype": "text/x-python",
   "name": "python",
   "nbconvert_exporter": "python",
   "pygments_lexer": "ipython3",
   "version": "3.11.4"
  }
 },
 "nbformat": 4,
 "nbformat_minor": 5
}
