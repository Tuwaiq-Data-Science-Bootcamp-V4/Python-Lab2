{
 "cells": [
  {
   "cell_type": "code",
   "execution_count": null,
   "id": "6faf8e03",
   "metadata": {},
   "outputs": [
    {
     "ename": "",
     "evalue": "",
     "output_type": "error",
     "traceback": [
      "\u001b[1;31mRunning cells with 'all-project-files' requires the ipykernel package.\n",
      "\u001b[1;31mRun the following command to install 'ipykernel' into the Python environment. \n",
      "\u001b[1;31mCommand: 'conda install -n all-project-files ipykernel --update-deps --force-reinstall'"
     ]
    }
   ],
   "source": [
    "movieName = \"it\""
   ]
  },
  {
   "cell_type": "code",
   "execution_count": null,
   "id": "64d7b352",
   "metadata": {},
   "outputs": [
    {
     "ename": "",
     "evalue": "",
     "output_type": "error",
     "traceback": [
      "\u001b[1;31mRunning cells with 'all-project-files' requires the ipykernel package.\n",
      "\u001b[1;31mRun the following command to install 'ipykernel' into the Python environment. \n",
      "\u001b[1;31mCommand: 'conda install -n all-project-files ipykernel --update-deps --force-reinstall'"
     ]
    }
   ],
   "source": [
    "rating = int(3)"
   ]
  },
  {
   "cell_type": "code",
   "execution_count": null,
   "id": "82942c19",
   "metadata": {},
   "outputs": [
    {
     "ename": "",
     "evalue": "",
     "output_type": "error",
     "traceback": [
      "\u001b[1;31mRunning cells with 'all-project-files' requires the ipykernel package.\n",
      "\u001b[1;31mRun the following command to install 'ipykernel' into the Python environment. \n",
      "\u001b[1;31mCommand: 'conda install -n all-project-files ipykernel --update-deps --force-reinstall'"
     ]
    }
   ],
   "source": [
    "popularityScore = float(72.65)"
   ]
  },
  {
   "cell_type": "code",
   "execution_count": null,
   "id": "ce75ccd8",
   "metadata": {},
   "outputs": [
    {
     "ename": "",
     "evalue": "",
     "output_type": "error",
     "traceback": [
      "\u001b[1;31mRunning cells with 'all-project-files' requires the ipykernel package.\n",
      "\u001b[1;31mRun the following command to install 'ipykernel' into the Python environment. \n",
      "\u001b[1;31mCommand: 'conda install -n all-project-files ipykernel --update-deps --force-reinstall'"
     ]
    }
   ],
   "source": [
    "if rating   >= 4  and popularityScore > 80  :\n",
    "    print(\"Highly recommended\")\n",
    "elif rating   >= 3  and popularityScore > 70 : \n",
    "     print(\"I recommended it, It is good\")\n",
    "elif rating   <= 2  and popularityScore > 60 : \n",
    "    print(\"You should check it out!\")\n",
    "    \n",
    "elif  rating   <= 2  and popularityScore > 50:\n",
    "    print(\"Don't watch it, It is a waste of time\")\n",
    "else : \n",
    "    print(\"??\")"
   ]
  },
  {
   "cell_type": "code",
   "execution_count": null,
   "id": "ff806ea7",
   "metadata": {},
   "outputs": [
    {
     "ename": "",
     "evalue": "",
     "output_type": "error",
     "traceback": [
      "\u001b[1;31mRunning cells with 'all-project-files' requires the ipykernel package.\n",
      "\u001b[1;31mRun the following command to install 'ipykernel' into the Python environment. \n",
      "\u001b[1;31mCommand: 'conda install -n all-project-files ipykernel --update-deps --force-reinstall'"
     ]
    }
   ],
   "source": []
  }
 ],
 "metadata": {
  "kernelspec": {
   "display_name": "Python 3 (ipykernel)",
   "language": "python",
   "name": "python3"
  },
  "language_info": {
   "codemirror_mode": {
    "name": "ipython",
    "version": 3
   },
   "file_extension": ".py",
   "mimetype": "text/x-python",
   "name": "python",
   "nbconvert_exporter": "python",
   "pygments_lexer": "ipython3",
   "version": "3.8.15"
  }
 },
 "nbformat": 4,
 "nbformat_minor": 5
}
