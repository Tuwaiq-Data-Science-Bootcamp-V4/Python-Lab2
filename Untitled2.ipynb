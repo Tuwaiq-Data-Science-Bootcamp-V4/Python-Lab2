{
 "cells": [
  {
   "cell_type": "code",
   "execution_count": 7,
   "id": "f975ce08",
   "metadata": {},
   "outputs": [],
   "source": [
    "movieName = \"it\""
   ]
  },
  {
   "cell_type": "code",
   "execution_count": 8,
   "id": "ddcdb560",
   "metadata": {},
   "outputs": [],
   "source": [
    "rating = int(3)"
   ]
  },
  {
   "cell_type": "code",
   "execution_count": 9,
   "id": "51eb300b",
   "metadata": {},
   "outputs": [],
   "source": [
    "popularityScore = float(72.65)"
   ]
  },
  {
   "cell_type": "code",
   "execution_count": 10,
   "id": "f7591f12",
   "metadata": {},
   "outputs": [
    {
     "name": "stdout",
     "output_type": "stream",
     "text": [
      "I recommended it, It is good\n"
     ]
    }
   ],
   "source": [
    "if rating   >= 4  and popularityScore > 80  :\n",
    "    print(\"Highly recommended\")\n",
    "elif rating   >= 3  and popularityScore > 70 : \n",
    "     print(\"I recommended it, It is good\")\n",
    "elif rating   <= 2  and popularityScore > 60 : \n",
    "    print(\"You should check it out!\")\n",
    "elif  rating   <= 2  and popularityScore > 50:\n",
    "    print(\"Don't watch it, It is a waste of time\")\n",
    "else : \n",
    "    print(\"??\")"
   ]
  },
  {
   "cell_type": "code",
   "execution_count": null,
   "id": "b78d9f98",
   "metadata": {},
   "outputs": [],
   "source": []
  },
  {
   "cell_type": "code",
   "execution_count": null,
   "id": "588986a4",
   "metadata": {},
   "outputs": [],
   "source": []
  },
  {
   "cell_type": "code",
   "execution_count": null,
   "id": "0d96bdcd",
   "metadata": {},
   "outputs": [],
   "source": []
  }
 ],
 "metadata": {
  "kernelspec": {
   "display_name": "Python 3 (ipykernel)",
   "language": "python",
   "name": "python3"
  },
  "language_info": {
   "codemirror_mode": {
    "name": "ipython",
    "version": 3
   },
   "file_extension": ".py",
   "mimetype": "text/x-python",
   "name": "python",
   "nbconvert_exporter": "python",
   "pygments_lexer": "ipython3",
   "version": "3.9.16"
  }
 },
 "nbformat": 4,
 "nbformat_minor": 5
}
