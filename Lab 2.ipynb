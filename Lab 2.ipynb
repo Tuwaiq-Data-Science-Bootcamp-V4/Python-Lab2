{
 "cells": [
  {
   "cell_type": "code",
   "execution_count": 1,
   "id": "918d5717",
   "metadata": {},
   "outputs": [],
   "source": [
    "movie=\"The Avengers\""
   ]
  },
  {
   "cell_type": "code",
   "execution_count": 2,
   "id": "c63ec0ab",
   "metadata": {},
   "outputs": [],
   "source": [
    "rting = 3"
   ]
  },
  {
   "cell_type": "code",
   "execution_count": 3,
   "id": "39fd3efc",
   "metadata": {},
   "outputs": [],
   "source": [
    "popularity = 72.65"
   ]
  },
  {
   "cell_type": "code",
   "execution_count": 4,
   "id": "c13fcf80",
   "metadata": {},
   "outputs": [
    {
     "name": "stdout",
     "output_type": "stream",
     "text": [
      "I recommended it, It is good\n"
     ]
    }
   ],
   "source": [
    "if rting >= 4 and popularity > 80:\n",
    "    print(\"Highly recommended\")\n",
    "elif rting >= 3 and popularity > 70:\n",
    "    print(\"I recommended it, It is good\")\n",
    "elif rting <= 2 and popularity > 60:\n",
    "    print(\"You should check it out!\")\n",
    "    \n",
    "# elif rting <= 2:\n",
    "#     if popularity > 60:\n",
    "#         print(\"You should check it out!\")\n",
    "#     elif popularity <50:\n",
    "#         print(\"Don't watch it, It is a waste of time\")\n",
    "else:\n",
    "    print(\"Don't watch it, It is a waste of time\")"
   ]
  },
  {
   "cell_type": "code",
   "execution_count": null,
   "id": "ae15e6a4",
   "metadata": {},
   "outputs": [],
   "source": []
  }
 ],
 "metadata": {
  "kernelspec": {
   "display_name": "Python 3 (ipykernel)",
   "language": "python",
   "name": "python3"
  },
  "language_info": {
   "codemirror_mode": {
    "name": "ipython",
    "version": 3
   },
   "file_extension": ".py",
   "mimetype": "text/x-python",
   "name": "python",
   "nbconvert_exporter": "python",
   "pygments_lexer": "ipython3",
   "version": "3.11.3"
  }
 },
 "nbformat": 4,
 "nbformat_minor": 5
}
