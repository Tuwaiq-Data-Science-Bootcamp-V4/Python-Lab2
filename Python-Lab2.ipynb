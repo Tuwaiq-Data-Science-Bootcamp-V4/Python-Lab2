{
 "cells": [
  {
   "cell_type": "markdown",
   "id": "9da78395",
   "metadata": {},
   "source": [
    "# Python-Lab2"
   ]
  },
  {
   "cell_type": "code",
   "execution_count": 2,
   "id": "84c32632",
   "metadata": {},
   "outputs": [],
   "source": [
    "# Variables \n",
    "movie = \"Escape Plan\"\n",
    "movieRate = int(3)\n",
    "popuScore = float(72.65)"
   ]
  },
  {
   "cell_type": "code",
   "execution_count": 4,
   "id": "2d4340f1",
   "metadata": {},
   "outputs": [
    {
     "name": "stdout",
     "output_type": "stream",
     "text": [
      "I recommended it, It is good\n"
     ]
    }
   ],
   "source": [
    "#If statement\n",
    "if movieRate >= 4 and popuScore > 80:\n",
    "    print(\"Highly recommended\")\n",
    "elif movieRate >= 3 and popuScore > 70:\n",
    "    print(\"I recommended it, It is good\")\n",
    "elif movieRate <= 2 and popuScore < 60:\n",
    "    print(\"You should check it out!\")\n",
    "elif movieRate <= 2 and popuScore < 50:\n",
    "    print(\"Don't watch it, It is a waste of time\")"
   ]
  },
  {
   "cell_type": "code",
   "execution_count": null,
   "id": "86bbeb17",
   "metadata": {},
   "outputs": [],
   "source": []
  }
 ],
 "metadata": {
  "kernelspec": {
   "display_name": "Python 3 (ipykernel)",
   "language": "python",
   "name": "python3"
  },
  "language_info": {
   "codemirror_mode": {
    "name": "ipython",
    "version": 3
   },
   "file_extension": ".py",
   "mimetype": "text/x-python",
   "name": "python",
   "nbconvert_exporter": "python",
   "pygments_lexer": "ipython3",
   "version": "3.9.12"
  }
 },
 "nbformat": 4,
 "nbformat_minor": 5
}
